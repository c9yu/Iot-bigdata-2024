{
 "cells": [
  {
   "cell_type": "markdown",
   "metadata": {},
   "source": [
    "### 스타벅스 매장 입지 분석\n",
    "- 순서\n",
    "    1. 데이터 수집\n",
    "    2. 데이터 전처리\n",
    "    3. 분석\n",
    "    4. 시각화\n",
    "\n",
    "#### 데이터 수집\n",
    "- 셀레니움 자동화 + 뷰티플수프 정제"
   ]
  },
  {
   "cell_type": "code",
   "execution_count": 16,
   "metadata": {},
   "outputs": [],
   "source": [
    "# 필요 라이브러리 사용\n",
    "from selenium import webdriver\n",
    "from selenium.webdriver.common.by import By\n",
    "from bs4 import BeautifulSoup"
   ]
  },
  {
   "cell_type": "code",
   "execution_count": 17,
   "metadata": {},
   "outputs": [
    {
     "name": "stdout",
     "output_type": "stream",
     "text": [
      "Requirement already satisfied: tqdm in c:\\dev\\langs\\python311\\lib\\site-packages (4.66.4)\n",
      "Requirement already satisfied: colorama in c:\\users\\user\\appdata\\roaming\\python\\python311\\site-packages (from tqdm) (0.4.6)\n"
     ]
    },
    {
     "name": "stderr",
     "output_type": "stream",
     "text": [
      "\n",
      "[notice] A new release of pip is available: 23.3.2 -> 24.2\n",
      "[notice] To update, run: python.exe -m pip install --upgrade pip\n"
     ]
    }
   ],
   "source": [
    "!pip install tqdm"
   ]
  },
  {
   "cell_type": "code",
   "execution_count": 25,
   "metadata": {},
   "outputs": [],
   "source": [
    "# 분석, 시각화 라이브러리 사용\n",
    "import pandas as pd\n",
    "import numpy as np\n",
    "import matplotlib.pyplot as plt\n",
    "from matplotlib import rcParams, rc, font_manager\n",
    "import warnings\n",
    "import seaborn as sns\n",
    "import time\n",
    "from tqdm import tqdm # 반복 진행 프로그레스 바 모듈"
   ]
  },
  {
   "cell_type": "code",
   "execution_count": 26,
   "metadata": {},
   "outputs": [],
   "source": [
    "# matplotlib 한글 및 기타 설정\n",
    "\n",
    "## 맑은 고딕 사용\n",
    "font_path = 'C:/Windows/Fonts/malgun.ttf'\n",
    "font_name = font_manager.FontProperties(fname=font_path).get_name() # 폰트 이름 : Malgun Gothic\n",
    "warnings.simplefilter('ignore')\n",
    "\n",
    "## 맷플롯립 설정\n",
    "plt.rcParams['font.family'] = font_name        # 폰트 설정\n",
    "plt.rcParams['font.size'] = 12                 # 글자 크기\n",
    "plt.rcParams['figure.figsize'] = (12, 5)       # (W, H)\n",
    "plt.rcParams['axes.grid'] = True               # 차트 가로세로줄 표시\n",
    "plt.rcParams['axes.unicode_minus'] = False     # 한글설정 후 '마이너스 깨짐' 방지 \n",
    "\n",
    "## 시본 설정\n",
    "sns.set_theme(font=font_name, style='darkgrid', rc={'axes.unicode_minus':False})"
   ]
  },
  {
   "cell_type": "markdown",
   "metadata": {},
   "source": [
    "### 셀레니움 사용"
   ]
  },
  {
   "cell_type": "code",
   "execution_count": 27,
   "metadata": {},
   "outputs": [],
   "source": [
    "# 웹드라이버\n",
    "driver = webdriver.Chrome()"
   ]
  },
  {
   "cell_type": "code",
   "execution_count": 28,
   "metadata": {},
   "outputs": [
    {
     "ename": "NoSuchWindowException",
     "evalue": "Message: no such window: target window already closed\nfrom unknown error: web view not found\n  (Session info: chrome=127.0.6533.89)\nStacktrace:\n\tGetHandleVerifier [0x00007FF75BFE9632+30946]\n\t(No symbol) [0x00007FF75BF9E3C9]\n\t(No symbol) [0x00007FF75BE96FDA]\n\t(No symbol) [0x00007FF75BE6CB85]\n\t(No symbol) [0x00007FF75BF137A7]\n\t(No symbol) [0x00007FF75BF2A771]\n\t(No symbol) [0x00007FF75BF0C813]\n\t(No symbol) [0x00007FF75BEDA6E5]\n\t(No symbol) [0x00007FF75BEDB021]\n\tGetHandleVerifier [0x00007FF75C11F83D+1301229]\n\tGetHandleVerifier [0x00007FF75C12BDB7+1351783]\n\tGetHandleVerifier [0x00007FF75C122A03+1313971]\n\tGetHandleVerifier [0x00007FF75C01DD06+245686]\n\t(No symbol) [0x00007FF75BFA758F]\n\t(No symbol) [0x00007FF75BFA3804]\n\t(No symbol) [0x00007FF75BFA3992]\n\t(No symbol) [0x00007FF75BF9A3EF]\n\tBaseThreadInitThunk [0x00007FFC226A257D+29]\n\tRtlUserThreadStart [0x00007FFC2328AF28+40]\n",
     "output_type": "error",
     "traceback": [
      "\u001b[1;31m---------------------------------------------------------------------------\u001b[0m",
      "\u001b[1;31mNoSuchWindowException\u001b[0m                     Traceback (most recent call last)",
      "Cell \u001b[1;32mIn[28], line 3\u001b[0m\n\u001b[0;32m      1\u001b[0m \u001b[38;5;66;03m# 스타벅스 코리아 사이트 연결\u001b[39;00m\n\u001b[0;32m      2\u001b[0m url \u001b[38;5;241m=\u001b[39m \u001b[38;5;124m'\u001b[39m\u001b[38;5;124mhttps://www.starbucks.co.kr/store/store_map.do?disp=quick\u001b[39m\u001b[38;5;124m'\u001b[39m\n\u001b[1;32m----> 3\u001b[0m \u001b[43mdriver\u001b[49m\u001b[38;5;241;43m.\u001b[39;49m\u001b[43mget\u001b[49m\u001b[43m(\u001b[49m\u001b[43murl\u001b[49m\u001b[43m)\u001b[49m\n",
      "File \u001b[1;32mc:\\DEV\\Langs\\Python311\\Lib\\site-packages\\selenium\\webdriver\\remote\\webdriver.py:363\u001b[0m, in \u001b[0;36mWebDriver.get\u001b[1;34m(self, url)\u001b[0m\n\u001b[0;32m    361\u001b[0m \u001b[38;5;28;01mdef\u001b[39;00m \u001b[38;5;21mget\u001b[39m(\u001b[38;5;28mself\u001b[39m, url: \u001b[38;5;28mstr\u001b[39m) \u001b[38;5;241m-\u001b[39m\u001b[38;5;241m>\u001b[39m \u001b[38;5;28;01mNone\u001b[39;00m:\n\u001b[0;32m    362\u001b[0m \u001b[38;5;250m    \u001b[39m\u001b[38;5;124;03m\"\"\"Loads a web page in the current browser session.\"\"\"\u001b[39;00m\n\u001b[1;32m--> 363\u001b[0m     \u001b[38;5;28;43mself\u001b[39;49m\u001b[38;5;241;43m.\u001b[39;49m\u001b[43mexecute\u001b[49m\u001b[43m(\u001b[49m\u001b[43mCommand\u001b[49m\u001b[38;5;241;43m.\u001b[39;49m\u001b[43mGET\u001b[49m\u001b[43m,\u001b[49m\u001b[43m \u001b[49m\u001b[43m{\u001b[49m\u001b[38;5;124;43m\"\u001b[39;49m\u001b[38;5;124;43murl\u001b[39;49m\u001b[38;5;124;43m\"\u001b[39;49m\u001b[43m:\u001b[49m\u001b[43m \u001b[49m\u001b[43murl\u001b[49m\u001b[43m}\u001b[49m\u001b[43m)\u001b[49m\n",
      "File \u001b[1;32mc:\\DEV\\Langs\\Python311\\Lib\\site-packages\\selenium\\webdriver\\remote\\webdriver.py:354\u001b[0m, in \u001b[0;36mWebDriver.execute\u001b[1;34m(self, driver_command, params)\u001b[0m\n\u001b[0;32m    352\u001b[0m response \u001b[38;5;241m=\u001b[39m \u001b[38;5;28mself\u001b[39m\u001b[38;5;241m.\u001b[39mcommand_executor\u001b[38;5;241m.\u001b[39mexecute(driver_command, params)\n\u001b[0;32m    353\u001b[0m \u001b[38;5;28;01mif\u001b[39;00m response:\n\u001b[1;32m--> 354\u001b[0m     \u001b[38;5;28;43mself\u001b[39;49m\u001b[38;5;241;43m.\u001b[39;49m\u001b[43merror_handler\u001b[49m\u001b[38;5;241;43m.\u001b[39;49m\u001b[43mcheck_response\u001b[49m\u001b[43m(\u001b[49m\u001b[43mresponse\u001b[49m\u001b[43m)\u001b[49m\n\u001b[0;32m    355\u001b[0m     response[\u001b[38;5;124m\"\u001b[39m\u001b[38;5;124mvalue\u001b[39m\u001b[38;5;124m\"\u001b[39m] \u001b[38;5;241m=\u001b[39m \u001b[38;5;28mself\u001b[39m\u001b[38;5;241m.\u001b[39m_unwrap_value(response\u001b[38;5;241m.\u001b[39mget(\u001b[38;5;124m\"\u001b[39m\u001b[38;5;124mvalue\u001b[39m\u001b[38;5;124m\"\u001b[39m, \u001b[38;5;28;01mNone\u001b[39;00m))\n\u001b[0;32m    356\u001b[0m     \u001b[38;5;28;01mreturn\u001b[39;00m response\n",
      "File \u001b[1;32mc:\\DEV\\Langs\\Python311\\Lib\\site-packages\\selenium\\webdriver\\remote\\errorhandler.py:229\u001b[0m, in \u001b[0;36mErrorHandler.check_response\u001b[1;34m(self, response)\u001b[0m\n\u001b[0;32m    227\u001b[0m         alert_text \u001b[38;5;241m=\u001b[39m value[\u001b[38;5;124m\"\u001b[39m\u001b[38;5;124malert\u001b[39m\u001b[38;5;124m\"\u001b[39m]\u001b[38;5;241m.\u001b[39mget(\u001b[38;5;124m\"\u001b[39m\u001b[38;5;124mtext\u001b[39m\u001b[38;5;124m\"\u001b[39m)\n\u001b[0;32m    228\u001b[0m     \u001b[38;5;28;01mraise\u001b[39;00m exception_class(message, screen, stacktrace, alert_text)  \u001b[38;5;66;03m# type: ignore[call-arg]  # mypy is not smart enough here\u001b[39;00m\n\u001b[1;32m--> 229\u001b[0m \u001b[38;5;28;01mraise\u001b[39;00m exception_class(message, screen, stacktrace)\n",
      "\u001b[1;31mNoSuchWindowException\u001b[0m: Message: no such window: target window already closed\nfrom unknown error: web view not found\n  (Session info: chrome=127.0.6533.89)\nStacktrace:\n\tGetHandleVerifier [0x00007FF75BFE9632+30946]\n\t(No symbol) [0x00007FF75BF9E3C9]\n\t(No symbol) [0x00007FF75BE96FDA]\n\t(No symbol) [0x00007FF75BE6CB85]\n\t(No symbol) [0x00007FF75BF137A7]\n\t(No symbol) [0x00007FF75BF2A771]\n\t(No symbol) [0x00007FF75BF0C813]\n\t(No symbol) [0x00007FF75BEDA6E5]\n\t(No symbol) [0x00007FF75BEDB021]\n\tGetHandleVerifier [0x00007FF75C11F83D+1301229]\n\tGetHandleVerifier [0x00007FF75C12BDB7+1351783]\n\tGetHandleVerifier [0x00007FF75C122A03+1313971]\n\tGetHandleVerifier [0x00007FF75C01DD06+245686]\n\t(No symbol) [0x00007FF75BFA758F]\n\t(No symbol) [0x00007FF75BFA3804]\n\t(No symbol) [0x00007FF75BFA3992]\n\t(No symbol) [0x00007FF75BF9A3EF]\n\tBaseThreadInitThunk [0x00007FFC226A257D+29]\n\tRtlUserThreadStart [0x00007FFC2328AF28+40]\n"
     ]
    }
   ],
   "source": [
    "# 스타벅스 코리아 사이트 연결\n",
    "url = 'https://www.starbucks.co.kr/store/store_map.do?disp=quick'\n",
    "driver.get(url)"
   ]
  },
  {
   "cell_type": "code",
   "execution_count": 22,
   "metadata": {},
   "outputs": [],
   "source": [
    "# 매장찾기 웹소스에서 '지역검색' 링크 검색 후 링크 클릭\n",
    "## F12 개발자도구로 HTML 태그 정보 확인\n",
    "## header.loca_search > h3 > a 에 지역검색 링크 존재\n",
    "link_path = 'header.loca_search > h3 > a'\n",
    "driver.find_element(By.CSS_SELECTOR, link_path).click()"
   ]
  },
  {
   "cell_type": "code",
   "execution_count": 23,
   "metadata": {},
   "outputs": [],
   "source": [
    "# 지역검색에서 서울 링크 클릭\n",
    "## ul.sido_arae_box > li:nth-child(1) > a\n",
    "link_path = 'ul.sido_arae_box > li:nth-child(1) > a'\n",
    "driver.find_element(By.CSS_SELECTOR, link_path).click()"
   ]
  },
  {
   "cell_type": "code",
   "execution_count": 24,
   "metadata": {},
   "outputs": [
    {
     "ename": "NoSuchElementException",
     "evalue": "Message: no such element: Unable to locate element: {\"method\":\"css selector\",\"selector\":\"ul.gugun_arae_box > li:nth-child(1) > a\"}\n  (Session info: chrome=127.0.6533.89); For documentation on this error, please visit: https://www.selenium.dev/documentation/webdriver/troubleshooting/errors#no-such-element-exception\nStacktrace:\n\tGetHandleVerifier [0x00007FF75BFE9632+30946]\n\t(No symbol) [0x00007FF75BF9E3C9]\n\t(No symbol) [0x00007FF75BE96FDA]\n\t(No symbol) [0x00007FF75BEE822C]\n\t(No symbol) [0x00007FF75BEE850C]\n\t(No symbol) [0x00007FF75BF2DCB7]\n\t(No symbol) [0x00007FF75BF0CAAF]\n\t(No symbol) [0x00007FF75BF2B041]\n\t(No symbol) [0x00007FF75BF0C813]\n\t(No symbol) [0x00007FF75BEDA6E5]\n\t(No symbol) [0x00007FF75BEDB021]\n\tGetHandleVerifier [0x00007FF75C11F83D+1301229]\n\tGetHandleVerifier [0x00007FF75C12BDB7+1351783]\n\tGetHandleVerifier [0x00007FF75C122A03+1313971]\n\tGetHandleVerifier [0x00007FF75C01DD06+245686]\n\t(No symbol) [0x00007FF75BFA758F]\n\t(No symbol) [0x00007FF75BFA3804]\n\t(No symbol) [0x00007FF75BFA3992]\n\t(No symbol) [0x00007FF75BF9A3EF]\n\tBaseThreadInitThunk [0x00007FFC226A257D+29]\n\tRtlUserThreadStart [0x00007FFC2328AF28+40]\n",
     "output_type": "error",
     "traceback": [
      "\u001b[1;31m---------------------------------------------------------------------------\u001b[0m",
      "\u001b[1;31mNoSuchElementException\u001b[0m                    Traceback (most recent call last)",
      "Cell \u001b[1;32mIn[24], line 4\u001b[0m\n\u001b[0;32m      1\u001b[0m \u001b[38;5;66;03m# 서울에서 전체 링크 클릭\u001b[39;00m\n\u001b[0;32m      2\u001b[0m \u001b[38;5;66;03m## ul.gugun_arae_box > li:nth-child(1) > a\u001b[39;00m\n\u001b[0;32m      3\u001b[0m link_path \u001b[38;5;241m=\u001b[39m \u001b[38;5;124m'\u001b[39m\u001b[38;5;124mul.gugun_arae_box > li:nth-child(1) > a\u001b[39m\u001b[38;5;124m'\u001b[39m\n\u001b[1;32m----> 4\u001b[0m \u001b[43mdriver\u001b[49m\u001b[38;5;241;43m.\u001b[39;49m\u001b[43mfind_element\u001b[49m\u001b[43m(\u001b[49m\u001b[43mBy\u001b[49m\u001b[38;5;241;43m.\u001b[39;49m\u001b[43mCSS_SELECTOR\u001b[49m\u001b[43m,\u001b[49m\u001b[43m \u001b[49m\u001b[43mlink_path\u001b[49m\u001b[43m)\u001b[49m\u001b[38;5;241m.\u001b[39mclick()\n\u001b[0;32m      6\u001b[0m \u001b[38;5;66;03m# 매장 전체 조회가 최초 2~3초 정도 시간이 걸리기 때문에 딜레이를 걸어줌 \u001b[39;00m\n\u001b[0;32m      7\u001b[0m time\u001b[38;5;241m.\u001b[39msleep(\u001b[38;5;241m3.0\u001b[39m)\n",
      "File \u001b[1;32mc:\\DEV\\Langs\\Python311\\Lib\\site-packages\\selenium\\webdriver\\remote\\webdriver.py:748\u001b[0m, in \u001b[0;36mWebDriver.find_element\u001b[1;34m(self, by, value)\u001b[0m\n\u001b[0;32m    745\u001b[0m     by \u001b[38;5;241m=\u001b[39m By\u001b[38;5;241m.\u001b[39mCSS_SELECTOR\n\u001b[0;32m    746\u001b[0m     value \u001b[38;5;241m=\u001b[39m \u001b[38;5;124mf\u001b[39m\u001b[38;5;124m'\u001b[39m\u001b[38;5;124m[name=\u001b[39m\u001b[38;5;124m\"\u001b[39m\u001b[38;5;132;01m{\u001b[39;00mvalue\u001b[38;5;132;01m}\u001b[39;00m\u001b[38;5;124m\"\u001b[39m\u001b[38;5;124m]\u001b[39m\u001b[38;5;124m'\u001b[39m\n\u001b[1;32m--> 748\u001b[0m \u001b[38;5;28;01mreturn\u001b[39;00m \u001b[38;5;28;43mself\u001b[39;49m\u001b[38;5;241;43m.\u001b[39;49m\u001b[43mexecute\u001b[49m\u001b[43m(\u001b[49m\u001b[43mCommand\u001b[49m\u001b[38;5;241;43m.\u001b[39;49m\u001b[43mFIND_ELEMENT\u001b[49m\u001b[43m,\u001b[49m\u001b[43m \u001b[49m\u001b[43m{\u001b[49m\u001b[38;5;124;43m\"\u001b[39;49m\u001b[38;5;124;43musing\u001b[39;49m\u001b[38;5;124;43m\"\u001b[39;49m\u001b[43m:\u001b[49m\u001b[43m \u001b[49m\u001b[43mby\u001b[49m\u001b[43m,\u001b[49m\u001b[43m \u001b[49m\u001b[38;5;124;43m\"\u001b[39;49m\u001b[38;5;124;43mvalue\u001b[39;49m\u001b[38;5;124;43m\"\u001b[39;49m\u001b[43m:\u001b[49m\u001b[43m \u001b[49m\u001b[43mvalue\u001b[49m\u001b[43m}\u001b[49m\u001b[43m)\u001b[49m[\u001b[38;5;124m\"\u001b[39m\u001b[38;5;124mvalue\u001b[39m\u001b[38;5;124m\"\u001b[39m]\n",
      "File \u001b[1;32mc:\\DEV\\Langs\\Python311\\Lib\\site-packages\\selenium\\webdriver\\remote\\webdriver.py:354\u001b[0m, in \u001b[0;36mWebDriver.execute\u001b[1;34m(self, driver_command, params)\u001b[0m\n\u001b[0;32m    352\u001b[0m response \u001b[38;5;241m=\u001b[39m \u001b[38;5;28mself\u001b[39m\u001b[38;5;241m.\u001b[39mcommand_executor\u001b[38;5;241m.\u001b[39mexecute(driver_command, params)\n\u001b[0;32m    353\u001b[0m \u001b[38;5;28;01mif\u001b[39;00m response:\n\u001b[1;32m--> 354\u001b[0m     \u001b[38;5;28;43mself\u001b[39;49m\u001b[38;5;241;43m.\u001b[39;49m\u001b[43merror_handler\u001b[49m\u001b[38;5;241;43m.\u001b[39;49m\u001b[43mcheck_response\u001b[49m\u001b[43m(\u001b[49m\u001b[43mresponse\u001b[49m\u001b[43m)\u001b[49m\n\u001b[0;32m    355\u001b[0m     response[\u001b[38;5;124m\"\u001b[39m\u001b[38;5;124mvalue\u001b[39m\u001b[38;5;124m\"\u001b[39m] \u001b[38;5;241m=\u001b[39m \u001b[38;5;28mself\u001b[39m\u001b[38;5;241m.\u001b[39m_unwrap_value(response\u001b[38;5;241m.\u001b[39mget(\u001b[38;5;124m\"\u001b[39m\u001b[38;5;124mvalue\u001b[39m\u001b[38;5;124m\"\u001b[39m, \u001b[38;5;28;01mNone\u001b[39;00m))\n\u001b[0;32m    356\u001b[0m     \u001b[38;5;28;01mreturn\u001b[39;00m response\n",
      "File \u001b[1;32mc:\\DEV\\Langs\\Python311\\Lib\\site-packages\\selenium\\webdriver\\remote\\errorhandler.py:229\u001b[0m, in \u001b[0;36mErrorHandler.check_response\u001b[1;34m(self, response)\u001b[0m\n\u001b[0;32m    227\u001b[0m         alert_text \u001b[38;5;241m=\u001b[39m value[\u001b[38;5;124m\"\u001b[39m\u001b[38;5;124malert\u001b[39m\u001b[38;5;124m\"\u001b[39m]\u001b[38;5;241m.\u001b[39mget(\u001b[38;5;124m\"\u001b[39m\u001b[38;5;124mtext\u001b[39m\u001b[38;5;124m\"\u001b[39m)\n\u001b[0;32m    228\u001b[0m     \u001b[38;5;28;01mraise\u001b[39;00m exception_class(message, screen, stacktrace, alert_text)  \u001b[38;5;66;03m# type: ignore[call-arg]  # mypy is not smart enough here\u001b[39;00m\n\u001b[1;32m--> 229\u001b[0m \u001b[38;5;28;01mraise\u001b[39;00m exception_class(message, screen, stacktrace)\n",
      "\u001b[1;31mNoSuchElementException\u001b[0m: Message: no such element: Unable to locate element: {\"method\":\"css selector\",\"selector\":\"ul.gugun_arae_box > li:nth-child(1) > a\"}\n  (Session info: chrome=127.0.6533.89); For documentation on this error, please visit: https://www.selenium.dev/documentation/webdriver/troubleshooting/errors#no-such-element-exception\nStacktrace:\n\tGetHandleVerifier [0x00007FF75BFE9632+30946]\n\t(No symbol) [0x00007FF75BF9E3C9]\n\t(No symbol) [0x00007FF75BE96FDA]\n\t(No symbol) [0x00007FF75BEE822C]\n\t(No symbol) [0x00007FF75BEE850C]\n\t(No symbol) [0x00007FF75BF2DCB7]\n\t(No symbol) [0x00007FF75BF0CAAF]\n\t(No symbol) [0x00007FF75BF2B041]\n\t(No symbol) [0x00007FF75BF0C813]\n\t(No symbol) [0x00007FF75BEDA6E5]\n\t(No symbol) [0x00007FF75BEDB021]\n\tGetHandleVerifier [0x00007FF75C11F83D+1301229]\n\tGetHandleVerifier [0x00007FF75C12BDB7+1351783]\n\tGetHandleVerifier [0x00007FF75C122A03+1313971]\n\tGetHandleVerifier [0x00007FF75C01DD06+245686]\n\t(No symbol) [0x00007FF75BFA758F]\n\t(No symbol) [0x00007FF75BFA3804]\n\t(No symbol) [0x00007FF75BFA3992]\n\t(No symbol) [0x00007FF75BF9A3EF]\n\tBaseThreadInitThunk [0x00007FFC226A257D+29]\n\tRtlUserThreadStart [0x00007FFC2328AF28+40]\n"
     ]
    }
   ],
   "source": [
    "# 서울에서 전체 링크 클릭\n",
    "## ul.gugun_arae_box > li:nth-child(1) > a\n",
    "link_path = 'ul.gugun_arae_box > li:nth-child(1) > a'\n",
    "driver.find_element(By.CSS_SELECTOR, link_path).click()\n",
    "\n",
    "# 매장 전체 조회가 최초 2~3초 정도 시간이 걸리기 때문에 딜레이를 걸어줌 \n",
    "time.sleep(3.0)"
   ]
  },
  {
   "cell_type": "markdown",
   "metadata": {},
   "source": [
    "#### 메가커피, 빽다방, 컴포즈커피 등 크롤링 가능한 사이트도 동일하게 진행"
   ]
  },
  {
   "cell_type": "markdown",
   "metadata": {},
   "source": [
    "- 서울 스타벅스 매장 정보 가져오기"
   ]
  },
  {
   "cell_type": "code",
   "execution_count": null,
   "metadata": {},
   "outputs": [],
   "source": [
    "html = driver.page_source"
   ]
  },
  {
   "cell_type": "code",
   "execution_count": null,
   "metadata": {},
   "outputs": [],
   "source": [
    "soup = BeautifulSoup(html, 'html.parser')"
   ]
  },
  {
   "cell_type": "code",
   "execution_count": null,
   "metadata": {},
   "outputs": [
    {
     "data": {
      "text/plain": [
       "637"
      ]
     },
     "execution_count": 27,
     "metadata": {},
     "output_type": "execute_result"
    }
   ],
   "source": [
    "# 서울, 전체 결과에서\n",
    "## ul.quickSearchResultBoxSidoGugun > li.quickResultLstCon 만 가져오면 됨\n",
    "quickResultLst = soup.select('li.quickResultLstCon')\n",
    "len(quickResultLst)"
   ]
  },
  {
   "cell_type": "code",
   "execution_count": null,
   "metadata": {},
   "outputs": [
    {
     "data": {
      "text/plain": [
       "<li class=\"quickResultLstCon\" data-code=\"3762\" data-hlytag=\"null\" data-index=\"0\" data-lat=\"37.501087\" data-long=\"127.043069\" data-name=\"역삼아레나빌딩\" data-storecd=\"1509\" style=\"background:#fff\"> <strong data-my_siren_order_store_yn=\"N\" data-name=\"역삼아레나빌딩\" data-store=\"1509\" data-yn=\"N\">역삼아레나빌딩  </strong> <p class=\"result_details\">서울특별시 강남구 언주로 425 (역삼동)<br/>1522-3232</p> <i class=\"pin_general\">리저브 매장 2번</i></li>"
      ]
     },
     "execution_count": 29,
     "metadata": {},
     "output_type": "execute_result"
    }
   ],
   "source": [
    "# 각 결과 확인\n",
    "# quickResultLst[30].select('strong')[0].text.strip() # 결과에 [](꺽새)가 있으면 파이썬에선 무조건 배열이다\n",
    "quickResultLst[23]"
   ]
  },
  {
   "cell_type": "markdown",
   "metadata": {},
   "source": [
    "## 판다스 데이터처리"
   ]
  },
  {
   "cell_type": "code",
   "execution_count": null,
   "metadata": {},
   "outputs": [
    {
     "data": {
      "text/plain": [
       "'서울특별시 강남구 언주로 425 (역삼동)'"
      ]
     },
     "execution_count": 34,
     "metadata": {},
     "output_type": "execute_result"
    }
   ],
   "source": [
    "quickResultLst[23].select('p.result_details')[0].text.replace('1522-3232', '')"
   ]
  },
  {
   "cell_type": "code",
   "execution_count": null,
   "metadata": {},
   "outputs": [
    {
     "ename": "NameError",
     "evalue": "name 'quickResultLst' is not defined",
     "output_type": "error",
     "traceback": [
      "\u001b[1;31m---------------------------------------------------------------------------\u001b[0m",
      "\u001b[1;31mNameError\u001b[0m                                 Traceback (most recent call last)",
      "Cell \u001b[1;32mIn[14], line 4\u001b[0m\n\u001b[0;32m      1\u001b[0m \u001b[38;5;66;03m# 서울매장 리스트 DF\u001b[39;00m\n\u001b[0;32m      2\u001b[0m seoulStores \u001b[38;5;241m=\u001b[39m []\n\u001b[1;32m----> 4\u001b[0m \u001b[38;5;28;01mfor\u001b[39;00m item \u001b[38;5;129;01min\u001b[39;00m tqdm(\u001b[43mquickResultLst\u001b[49m):\n\u001b[0;32m      5\u001b[0m     storeName \u001b[38;5;241m=\u001b[39m item\u001b[38;5;241m.\u001b[39mselect(\u001b[38;5;124m'\u001b[39m\u001b[38;5;124mstrong\u001b[39m\u001b[38;5;124m'\u001b[39m)[\u001b[38;5;241m0\u001b[39m]\u001b[38;5;241m.\u001b[39mtext\u001b[38;5;241m.\u001b[39mstrip()  \u001b[38;5;66;03m# 매장 이름\u001b[39;00m\n\u001b[0;32m      6\u001b[0m     storeLat \u001b[38;5;241m=\u001b[39m item[\u001b[38;5;124m'\u001b[39m\u001b[38;5;124mdata-lat\u001b[39m\u001b[38;5;124m'\u001b[39m]                        \u001b[38;5;66;03m# 매장 위치의 위도값\u001b[39;00m\n",
      "\u001b[1;31mNameError\u001b[0m: name 'quickResultLst' is not defined"
     ]
    }
   ],
   "source": [
    "# 서울매장 리스트 DF\n",
    "seoulStores = []\n",
    "\n",
    "for item in tqdm(quickResultLst):\n",
    "    storeName = item.select('strong')[0].text.strip()  # 매장 이름\n",
    "    storeLat = item['data-lat']                        # 매장 위치의 위도값\n",
    "    storeLng = item['data-long']                       #매장 위치의 경도값\n",
    "    address = item.select('p.result_details')[0].text.replace('1522-3232', '') # 매장 주소\n",
    "    storeCd = item['data-storecd'] # 매장 코드(번호가 작을수록 오래된 매장이라고 유추 가능)\n",
    "    storeType = item.select('i')[0]['class'][0].split('_')[1] # 매장 종류(일반, 리저브, DY, WT)\n",
    "\n",
    "    seoulStores.append([storeCd, storeName, storeType, address, storeLat, storeLng])\n",
    "    time.sleep(1)\n",
    "    "
   ]
  },
  {
   "cell_type": "code",
   "execution_count": null,
   "metadata": {},
   "outputs": [],
   "source": []
  }
 ],
 "metadata": {
  "kernelspec": {
   "display_name": "Python 3",
   "language": "python",
   "name": "python3"
  },
  "language_info": {
   "codemirror_mode": {
    "name": "ipython",
    "version": 3
   },
   "file_extension": ".py",
   "mimetype": "text/x-python",
   "name": "python",
   "nbconvert_exporter": "python",
   "pygments_lexer": "ipython3",
   "version": "3.11.5"
  }
 },
 "nbformat": 4,
 "nbformat_minor": 2
}
