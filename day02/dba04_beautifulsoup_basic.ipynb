{
 "cells": [
  {
   "cell_type": "markdown",
   "metadata": {},
   "source": [
    "### Beautiful Soup 기초\n",
    "- 웹 페이지 정제 라이브러리 - 웹페이지 내용을 읽어오고 필요한 내용을 발췌, 데이터로 받아오는 작업\n",
    "- OpenAPI나 데이터를 제공해주지 않는 서비스에서 데이터를 긁어오기 위한 기본작업\n",
    "\n",
    "#### BeautifulSoup 설치\n",
    "```shell\n",
    "!pip install beautifulsoup4\n",
    "```"
   ]
  },
  {
   "cell_type": "code",
   "execution_count": 1,
   "metadata": {},
   "outputs": [
    {
     "name": "stdout",
     "output_type": "stream",
     "text": [
      "Requirement already satisfied: beautifulsoup4 in c:\\dev\\langs\\python311\\lib\\site-packages (4.12.3)\n",
      "Requirement already satisfied: soupsieve>1.2 in c:\\dev\\langs\\python311\\lib\\site-packages (from beautifulsoup4) (2.5)\n"
     ]
    },
    {
     "name": "stderr",
     "output_type": "stream",
     "text": [
      "\n",
      "[notice] A new release of pip is available: 23.3.2 -> 24.2\n",
      "[notice] To update, run: python.exe -m pip install --upgrade pip\n"
     ]
    }
   ],
   "source": [
    "!pip install beautifulsoup4"
   ]
  },
  {
   "cell_type": "markdown",
   "metadata": {},
   "source": [
    "- 웹 크롤링 가능여부 판단\n",
    "    - 웹 사이트를 열고, 페이지 소스 보기를 했을 때 HTML 소스가 일반적으로 표시되어야 함\n",
    "    - 네이버 등 대형 포털은 크롤링 방지가 되어 있음"
   ]
  },
  {
   "cell_type": "markdown",
   "metadata": {},
   "source": [
    "- 뷰티풀 수프 사용"
   ]
  },
  {
   "cell_type": "code",
   "execution_count": 3,
   "metadata": {},
   "outputs": [],
   "source": [
    "from bs4 import BeautifulSoup # 줄임말 보통 사용 안함\n",
    "import requests"
   ]
  },
  {
   "cell_type": "code",
   "execution_count": 8,
   "metadata": {},
   "outputs": [],
   "source": [
    "## 크롤링 사이트 멜론 : https://www.melon.com/chart/index.htm\n",
    "## 406 에러 : 클라이언트 오류 응답 코드\n",
    "url = 'https://search.danawa.com/dsearch.php?k1=HP+%EB%85%B8%ED%8A%B8%EB%B6%81&module=goods&act=dispMain' # 여기를 크롤링 할 것\n",
    "\n",
    "response = requests.get(url)\n",
    "\n",
    "if response.status_code == 200: # 200 OK, 404 Not Found, 500 Internal Error\n",
    "    html = (response.text)\n",
    "    # soup = BeautifulSoup(html 'html.parser')\n",
    "    # prinit(soup)\n",
    "    # soup.select()\n",
    "else:\n",
    "    print(response.status_code)\n"
   ]
  },
  {
   "cell_type": "markdown",
   "metadata": {},
   "source": [
    "- 단순 웹크롤링은 대부분의 사이트가 막고 있음"
   ]
  },
  {
   "cell_type": "code",
   "execution_count": null,
   "metadata": {},
   "outputs": [],
   "source": [
    "##### "
   ]
  }
 ],
 "metadata": {
  "kernelspec": {
   "display_name": "Python 3",
   "language": "python",
   "name": "python3"
  },
  "language_info": {
   "codemirror_mode": {
    "name": "ipython",
    "version": 3
   },
   "file_extension": ".py",
   "mimetype": "text/x-python",
   "name": "python",
   "nbconvert_exporter": "python",
   "pygments_lexer": "ipython3",
   "version": "3.11.5"
  }
 },
 "nbformat": 4,
 "nbformat_minor": 2
}
