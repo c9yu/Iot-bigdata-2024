{
 "cells": [
  {
   "cell_type": "markdown",
   "metadata": {},
   "source": [
    "### 스타벅스 매장 입지 분석\n",
    "- 순서\n",
    "    1. 데이터 수집\n",
    "    2. 데이터 전처리\n",
    "    3. 분석\n",
    "    4. 시각화\n",
    "\n",
    "#### 데이터 수집\n",
    "- 셀레니움 자동화 + 뷰티플수프 정제"
   ]
  },
  {
   "cell_type": "code",
   "execution_count": null,
   "metadata": {},
   "outputs": [],
   "source": []
  }
 ],
 "metadata": {
  "language_info": {
   "name": "python"
  }
 },
 "nbformat": 4,
 "nbformat_minor": 2
}
