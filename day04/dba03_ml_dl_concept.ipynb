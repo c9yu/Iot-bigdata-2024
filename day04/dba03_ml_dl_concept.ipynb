{
 "cells": [
  {
   "cell_type": "markdown",
   "metadata": {},
   "source": [
    "### 머신러닝, 딥러닝 기초\n",
    "- 지능(intelligence) : 어떠한 문제를 해결하기 위한 지적(뇌를 사용한)인 활동능력\n",
    "- 인공지능 : 기계가 사람의 지능을 모방하는 기술\n",
    "- 인공지능 개념이 앨 1950년대이지만 실제로 사용할 수 있게 되기까지는 60년 정도 걸렸음\n",
    "\n",
    "#### 인공지능 목표\n",
    "- 인간이 하는 모든 일을 인공지능을 탑재한 기계가 모두 해내도록 만드는 것\n",
    "\n",
    "#### 인공지능 종류\n",
    "- 약 인공지능 (Week AI)\n",
    "    - 사람이 쉽게 처리할 수 있었지만, 컴퓨터로 하기 어려웠던 일을 수행할 수 있게 하는 인공지능\n",
    "    - 지각을  가지고 있지 않음. 특정한 업무만 처리하고 거기에 집중함\n",
    "    - 현재를 약 인공지능의 시대라 칭함\n",
    "\n",
    "- 강 인공지능(Strong AI)\n",
    "    - AGI(Artificial General Intelligence) 성능을 가진 인공지능\n",
    "    - 인공지능 연구의 목표\n",
    "    - 약 인공지능에 비해 더 인간같고, 물어보면 다 대답해주는 로봇이 예\n",
    "    - http://youtube.com/watch?v=bAr75K-5Uqw?si=FJY8WVUm3d8NTD7W \n",
    "    - 현재 강 인공지능으로 가고 있음"
   ]
  },
  {
   "cell_type": "markdown",
   "metadata": {},
   "source": [
    "#### 인공지능 발전 요인\n",
    "- 인공지능이 60년동안 발전할 수 없었지만 이제 발전하게 된 이유\n",
    "\n",
    "- 컴퓨터 하드웨어 발전\n",
    "    - 기타 하드웨어도 포함하지만, CPU보다\n",
    "    - GPUI(Graphic Processing Unit)가 괄목할 발전, NBIDIA/AMD 등의 그래픽 카드를 의미\n",
    "    - 3D 게임/그래픽, 블록체인 계산, 딥러닝 계산 처리\n",
    "    - NPU(Neural network Processing Unit) > TPU(Tensor Processing Unit) 구글에서 만든 NPU\n",
    "\n",
    "- 기하급수적인 데이터 증가\n",
    "    - 빅데이터 등으로 정형/비정형\n",
    "\n",
    "- "
   ]
  },
  {
   "cell_type": "markdown",
   "metadata": {},
   "source": [
    "#### 머신러닝과 딥러닝\n",
    "- https://blogs.nvidia.co.kr/blog/difference_ai_learning_machinelearning/ \n",
    "\n",
    "<img src = \"https://blogs.nvidia.co.kr/wp-content/uploads/sites/16/2016/08/postfiles8.naver_.png \" width = \"800\">\n",
    "\n",
    "- 머신러닝(Machine Learning)\n",
    "    - 데이터 학습 기반의 인공지능 분야\n",
    "    - 컴퓨터에게 어떻게 동작할지 코드로 명시하지 않고, 데이터를 이용해서 학습할 수 있도록 알고리즘과 기술 개발\n",
    "    - 전문가 시스템이라고도 호칭\n",
    "\n",
    "- 딥러닝(Deep Learning)\n",
    "    - 인공신경망 알고리즘을 기반한 비정형데이터 분석에 뛰어난 성능을 발휘하는 인공지능 분야\n",
    "    - 텍스트, 영상, 음성 등에 장점, DB 등의 정형 데이터도 분석이 뛰어남\n",
    "\n",
    "- 프로세스 차이"
   ]
  },
  {
   "cell_type": "markdown",
   "metadata": {},
   "source": []
  }
 ],
 "metadata": {
  "language_info": {
   "name": "python"
  }
 },
 "nbformat": 4,
 "nbformat_minor": 2
}
