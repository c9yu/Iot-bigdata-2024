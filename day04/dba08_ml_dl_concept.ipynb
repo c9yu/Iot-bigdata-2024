{
 "cells": [
  {
   "cell_type": "markdown",
   "metadata": {},
   "source": [
    "### 머신러닝, 딥러닝 기초\n",
    "- 지능(intelligence) : 어떠한 문제를 해결하기 위한 지적(뇌를 사용한)인 활동능력\n",
    "- 인공지능 : 기계가 사람의 지능을 모방하는 기술\n",
    "- 인공지능 개념이 앨 1950년대이지만 실제로 사용할 수 있게 되기까지는 60년 정도 걸렸음\n",
    "\n",
    "#### 인공지능 목표\n",
    "- 인간이 하는 모든 일을 인공지능을 탑재한 기계가 모두 해내도록 만드는 것\n",
    "\n",
    "#### 인공지능 종류\n",
    "- 약 인공지능 (Week AI)\n",
    "    - 사람이 쉽게 처리할 수 있었지만, 컴퓨터로 하기 어려웠던 일을 수행할 수 있게 하는 인공지능\n",
    "    - 지각을  가지고 있지 않음. 특정한 업무만 처리하고 거기에 집중함\n",
    "    - 현재를 약 인공지능의 시대라 칭함\n",
    "\n",
    "- 강 인공지능(Strong AI)\n",
    "    - AGI(Artificial General Intelligence) 성능을 가진 인공지능\n",
    "    - 인공지능 연구의 목표\n",
    "    - 약 인공지능에 비해 더 인간같고, 물어보면 다 대답해주는 로봇이 예\n",
    "    - http://youtube.com/watch?v=bAr75K-5Uqw?si=FJY8WVUm3d8NTD7W \n",
    "    - 현재 강 인공지능으로 가고 있음"
   ]
  },
  {
   "cell_type": "markdown",
   "metadata": {},
   "source": [
    "#### 인공지능 발전 요인\n",
    "- 인공지능이 60년동안 발전할 수 없었지만 이제 발전하게 된 이유\n",
    "\n",
    "- 컴퓨터 하드웨어 발전\n",
    "    - 기타 하드웨어도 포함하지만, CPU보다\n",
    "    - GPUI(Graphic Processing Unit)가 괄목할 발전, NBIDIA/AMD 등의 그래픽 카드를 의미\n",
    "    - 3D 게임/그래픽, 블록체인 계산, 딥러닝 계산 처리\n",
    "    - NPU(Neural network Processing Unit) > TPU(Tensor Processing Unit) 구글에서 만든 NPU\n",
    "\n",
    "- 기하급수적인 데이터 증가\n",
    "    - 빅데이터 등으로 정형/비정형\n",
    "\n",
    "- "
   ]
  },
  {
   "cell_type": "markdown",
   "metadata": {},
   "source": [
    "#### 머신러닝과 딥러닝\n",
    "- https://blogs.nvidia.co.kr/blog/difference_ai_learning_machinelearning/ \n",
    "\n",
    "<img src = \"https://blogs.nvidia.co.kr/wp-content/uploads/sites/16/2016/08/postfiles8.naver_.png \" width = \"800\">\n",
    "\n",
    "- 머신러닝(Machine Learning)\n",
    "    - 데이터 학습 기반의 인공지능 분야\n",
    "    - 컴퓨터에게 어떻게 동작할지 코드로 명시하지 않고, 데이터를 이용해서 학습할 수 있도록 알고리즘과 기술 개발\n",
    "    - 전문가 시스템이라고도 호칭\n",
    "\n",
    "- 딥러닝(Deep Learning)\n",
    "    - 인공신경망 알고리즘을 기반한 비정형데이터 분석에 뛰어난 성능을 발휘하는 인공지능 분야\n",
    "    - 텍스트, 영상, 음성 등에 장점, DB 등의 정형 데이터도 분석이 뛰어남\n",
    "\n",
    "- 프로세스 차이"
   ]
  },
  {
   "cell_type": "markdown",
   "metadata": {},
   "source": []
  },
  {
   "cell_type": "markdown",
   "metadata": {},
   "source": [
    "#### 머신러닝/딥러닝으로 할 수 있는 일\n",
    "- 머신러닝 : 회귀, 분류, 군집, 텍스트 마이닝\n",
    "- 딥러닝 : 머신러닝 + 컴퓨터 비전, 패턴인식, 물체인식, 실시간 행동분석, 새로운 이미지 만들기, 자율주행, 로봇\n",
    "\n",
    "#### 머신러닝 분류\n",
    "- 지도 학습 : 훈련데이터로 하나의 함수를 유추해내는 방법 -> 회귀, 분류...\n",
    "- 비지도 학습 : 레이블 없는 훈련데이터를 이용해서 스스로 학습을 하는 방법 -> 군집, 차원축소, 이상치 탐지...\n",
    "- 강화 학습 : 학습 시스템을 에이전트라 부르고, 에이전트가 취한 행동에 따라 보상/벌점을 주어 가장 큰 보상을 받는 방향으로 유도하는 학습\n",
    "\n",
    "#### 딥러닝\n",
    "- 뉴럴 네트워크를 사용, 머신러닝보다 정확도 높이는 것에 집중"
   ]
  },
  {
   "cell_type": "markdown",
   "metadata": {},
   "source": [
    "#### PyTorch GPU 설치\n",
    "- NVIDIA GPU에서만 가능, CUDA로 되어있기 때문\n",
    "- GPU 설치가 가능한지 먼저 확인"
   ]
  },
  {
   "cell_type": "code",
   "execution_count": 1,
   "metadata": {},
   "outputs": [
    {
     "name": "stdout",
     "output_type": "stream",
     "text": [
      "Tue Aug  6 13:45:24 2024       \n",
      "+---------------------------------------------------------------------------------------+\n",
      "| NVIDIA-SMI 536.23                 Driver Version: 536.23       CUDA Version: 12.2     |\n",
      "|-----------------------------------------+----------------------+----------------------+\n",
      "| GPU  Name                     TCC/WDDM  | Bus-Id        Disp.A | Volatile Uncorr. ECC |\n",
      "| Fan  Temp   Perf          Pwr:Usage/Cap |         Memory-Usage | GPU-Util  Compute M. |\n",
      "|                                         |                      |               MIG M. |\n",
      "|=========================================+======================+======================|\n",
      "|   0  NVIDIA GeForce GTX 1650      WDDM  | 00000000:01:00.0  On |                  N/A |\n",
      "| 50%   34C    P8              10W /  75W |    833MiB /  4096MiB |      5%      Default |\n",
      "|                                         |                      |                  N/A |\n",
      "+-----------------------------------------+----------------------+----------------------+\n",
      "                                                                                         \n",
      "+---------------------------------------------------------------------------------------+\n",
      "| Processes:                                                                            |\n",
      "|  GPU   GI   CI        PID   Type   Process name                            GPU Memory |\n",
      "|        ID   ID                                                             Usage      |\n",
      "|=======================================================================================|\n",
      "|    0   N/A  N/A      1584    C+G   ...Desktop\\app-3.4.2\\GitHubDesktop.exe    N/A      |\n",
      "|    0   N/A  N/A      2912    C+G   ...1.0_x64__8wekyb3d8bbwe\\Video.UI.exe    N/A      |\n",
      "|    0   N/A  N/A      5848    C+G   ...2txyewy\\StartMenuExperienceHost.exe    N/A      |\n",
      "|    0   N/A  N/A      7260    C+G   C:\\Windows\\explorer.exe                   N/A      |\n",
      "|    0   N/A  N/A     12588    C+G   ...ekyb3d8bbwe\\PhoneExperienceHost.exe    N/A      |\n",
      "|    0   N/A  N/A     13404    C+G   ...CBS_cw5n1h2txyewy\\TextInputHost.exe    N/A      |\n",
      "|    0   N/A  N/A     15268    C+G   ...cks-services\\BlueStacksServices.exe    N/A      |\n",
      "|    0   N/A  N/A     15896    C+G   ...20.0.2210.91.x64\\msedgewebview2.exe    N/A      |\n",
      "|    0   N/A  N/A     16228    C+G   ...es\\Umba Corp\\Umba\\UmbaWallpaper.exe    N/A      |\n",
      "|    0   N/A  N/A     16392    C+G   ....5536.0_x64__8j3eq9eme6ctt\\IGCC.exe    N/A      |\n",
      "|    0   N/A  N/A     17388    C+G   ...20.0.2210.91.x64\\msedgewebview2.exe    N/A      |\n",
      "|    0   N/A  N/A     18600    C+G   ...n\\126.0.2592.113\\msedgewebview2.exe    N/A      |\n",
      "|    0   N/A  N/A     19992    C+G   C:\\DEV\\IDE\\Microsoft VS Code\\Code.exe     N/A      |\n",
      "|    0   N/A  N/A     20844    C+G   ...nt.CBS_cw5n1h2txyewy\\SearchHost.exe    N/A      |\n",
      "|    0   N/A  N/A     21932    C+G   ...r\\AppData\\Roaming\\Zoom\\bin\\Zoom.exe    N/A      |\n",
      "|    0   N/A  N/A     28868    C+G   ...n\\126.0.2592.113\\msedgewebview2.exe    N/A      |\n",
      "+---------------------------------------------------------------------------------------+\n"
     ]
    }
   ],
   "source": [
    "!nvidia-smi"
   ]
  },
  {
   "cell_type": "markdown",
   "metadata": {},
   "source": [
    "#### CUDA Version 12.2\n"
   ]
  },
  {
   "cell_type": "markdown",
   "metadata": {},
   "source": [
    "#### GPU용 파이썬 가상환경 만들기\n",
    "- GPU PyTorch는 설치로그를 봐야하기 때문에 명령 프롬프트에서 진행 \n",
    "\n",
    "- 터미널 오픈\n",
    "    - virtualenv 다운로드 확인 (cmd에서 pip list를 통해)\n",
    "        - 만약 없다면 pip install virtualenv 를 통해 다운로드\n",
    "\n",
    "- 가상환경 활성화\n",
    "    - cd gpu_env\\Scripts\\activate\n",
    "\n",
    "- PyTorch GPU 설치\n",
    "    - 파이토치 GetStarted 사이트에서 확인 후 명령어 설치\n",
    "    - 명령어 : pip install torch torchvision torchaudio --index-url https://download.pytorch.org/whl/cu121"
   ]
  },
  {
   "cell_type": "markdown",
   "metadata": {},
   "source": [
    "#### 파이토치 GPU 확인"
   ]
  },
  {
   "cell_type": "code",
   "execution_count": 2,
   "metadata": {},
   "outputs": [],
   "source": [
    "import torch"
   ]
  },
  {
   "cell_type": "code",
   "execution_count": 3,
   "metadata": {},
   "outputs": [
    {
     "data": {
      "text/plain": [
       "'2.4.0+cu121'"
      ]
     },
     "execution_count": 3,
     "metadata": {},
     "output_type": "execute_result"
    }
   ],
   "source": [
    "## 2.4.0 + cu121 --> CUDA 12.1버전의 PyTorch\n",
    "torch.__version__"
   ]
  },
  {
   "cell_type": "code",
   "execution_count": 4,
   "metadata": {},
   "outputs": [
    {
     "data": {
      "text/plain": [
       "True"
      ]
     },
     "execution_count": 4,
     "metadata": {},
     "output_type": "execute_result"
    }
   ],
   "source": [
    "## CUDA 쓸 수 있는지 확인\n",
    "torch.cuda.is_available()"
   ]
  },
  {
   "cell_type": "code",
   "execution_count": 5,
   "metadata": {},
   "outputs": [
    {
     "data": {
      "text/plain": [
       "'NVIDIA GeForce GTX 1650'"
      ]
     },
     "execution_count": 5,
     "metadata": {},
     "output_type": "execute_result"
    }
   ],
   "source": [
    "## 설치된 CUDA가 동작하는 그래픽카드 정보 확인\n",
    "torch.cuda.get_device_name(0)"
   ]
  },
  {
   "cell_type": "code",
   "execution_count": null,
   "metadata": {},
   "outputs": [],
   "source": []
  }
 ],
 "metadata": {
  "kernelspec": {
   "display_name": "Python 3",
   "language": "python",
   "name": "python3"
  },
  "language_info": {
   "codemirror_mode": {
    "name": "ipython",
    "version": 3
   },
   "file_extension": ".py",
   "mimetype": "text/x-python",
   "name": "python",
   "nbconvert_exporter": "python",
   "pygments_lexer": "ipython3",
   "version": "3.11.5"
  }
 },
 "nbformat": 4,
 "nbformat_minor": 2
}
