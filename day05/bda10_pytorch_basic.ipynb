{
 "cells": [
  {
   "cell_type": "markdown",
   "metadata": {},
   "source": [
    "#### 파이토치 패키지(네임스페이스) 구성\n",
    "- **torch**\n",
    "    - 메인 네임스페이스. 텐서(진짜 기본) 및 삼각함수 (sin, cos, tan) 포함 Numpy와 유사한 구조\n",
    "    - Numpy와 쉽게 변환\n",
    "\n",
    "- **torch.autograd**\n",
    "    - 자동 미분을 위한 함수 포함. 컨텍스트 매니저, 기반클래스 및 함수 포함\n",
    "\n",
    "- **torch.nn / torch.nn.functional**\n",
    "    - nn(Neural Netwrok). 딥러닝 신경망을 구축시 필요한 데이터구조, 레이어 정의가 포함. RNN, LSTM 레이어 및 ReLU, MESLoss 등\n",
    "    Tensorflow에 있는 함수 및 모델 포함\n",
    "\n",
    "- **torch.optim**\n",
    "    - 확률적 경사 하강법(Stochastic Gradient Descent, SGD) 중심 파라미터 최적화 알고리즘 포함\n",
    "\n",
    "- **torch.utils.data**\n",
    "    - SGD 반복 연산 시 Batch(컴퓨터가 자동 백그라운드로 실행) 유틸리티가 포함\n",
    "\n",
    "- **torch.onnx**\n",
    "    - Open Neural Network eXchange 포맷의 모델 포함. onnx 확장자로 export 하면 Tensorflow나 다른 딥러닝, 머신러닝 라이브러리에서 사용 기능"
   ]
  },
  {
   "cell_type": "markdown",
   "metadata": {},
   "source": [
    "#### 파이토치 기초\n",
    "\n",
    "##### 텐서(Tensor)\n",
    "- 파이토치에서 데이터를 저장하는 자료구조"
   ]
  }
 ],
 "metadata": {
  "language_info": {
   "name": "python"
  }
 },
 "nbformat": 4,
 "nbformat_minor": 2
}
